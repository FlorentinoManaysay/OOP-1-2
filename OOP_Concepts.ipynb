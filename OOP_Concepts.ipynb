{
  "nbformat": 4,
  "nbformat_minor": 0,
  "metadata": {
    "colab": {
      "name": "OOP Concepts.ipynb",
      "provenance": [],
      "collapsed_sections": [],
      "authorship_tag": "ABX9TyPcMEAKGy4yAYpJ1fiJpYLR",
      "include_colab_link": true
    },
    "kernelspec": {
      "name": "python3",
      "display_name": "Python 3"
    },
    "language_info": {
      "name": "python"
    }
  },
  "cells": [
    {
      "cell_type": "markdown",
      "metadata": {
        "id": "view-in-github",
        "colab_type": "text"
      },
      "source": [
        "<a href=\"https://colab.research.google.com/github/InoRM21/OOP-1-2/blob/main/OOP_Concepts.ipynb\" target=\"_parent\"><img src=\"https://colab.research.google.com/assets/colab-badge.svg\" alt=\"Open In Colab\"/></a>"
      ]
    },
    {
      "cell_type": "markdown",
      "source": [
        "#Python Classes and Objects"
      ],
      "metadata": {
        "id": "KSGjjhCsSMsu"
      }
    },
    {
      "cell_type": "markdown",
      "source": [
        "Create a class"
      ],
      "metadata": {
        "id": "-Wv9B2j7SdSC"
      }
    },
    {
      "cell_type": "code",
      "source": [
        "class MyClass:\n",
        "  pass"
      ],
      "metadata": {
        "id": "nkCmH6EJSrJB"
      },
      "execution_count": 46,
      "outputs": []
    },
    {
      "cell_type": "code",
      "source": [
        "class OOP1_2:\n",
        "  X=5\n",
        "  print(X)"
      ],
      "metadata": {
        "colab": {
          "base_uri": "https://localhost:8080/"
        },
        "id": "ZUYZJqjlS4eg",
        "outputId": "32e0c3d4-ab54-4174-ac6b-87b4ca18eb92"
      },
      "execution_count": 45,
      "outputs": [
        {
          "output_type": "stream",
          "name": "stdout",
          "text": [
            "5\n"
          ]
        }
      ]
    },
    {
      "cell_type": "markdown",
      "source": [
        "Create Objects"
      ],
      "metadata": {
        "id": "bEEbRa2UUPOh"
      }
    },
    {
      "cell_type": "code",
      "source": [
        "class OOP1_2:\n",
        "  def __init__(self,name,age):\n",
        "    self.name = name\n",
        "    self.age = age\n",
        "\n",
        "  def identity(self):\n",
        "    print(self.name,self.age)\n",
        "\n",
        "person=OOP1_2(\"Florentino\",19)\n",
        "\n",
        "print(person.name)\n",
        "print(person.age)\n",
        "print(person.identity)"
      ],
      "metadata": {
        "colab": {
          "base_uri": "https://localhost:8080/"
        },
        "id": "gnJ2y9ABTXHg",
        "outputId": "f62e8f89-3d7c-4603-e0f0-4d00a3b9045e"
      },
      "execution_count": 52,
      "outputs": [
        {
          "output_type": "stream",
          "name": "stdout",
          "text": [
            "Florentino\n",
            "19\n",
            "<bound method OOP1_2.identity of <__main__.OOP1_2 object at 0x7f78b9f18b90>>\n"
          ]
        }
      ]
    },
    {
      "cell_type": "code",
      "source": [
        "#Modify the Object Name\n",
        "\n",
        "person.name= \"Ino\"\n",
        "print(person.name)\n",
        "print(person.age)"
      ],
      "metadata": {
        "colab": {
          "base_uri": "https://localhost:8080/"
        },
        "id": "BbE3bOgIWrzL",
        "outputId": "2d4eed07-67ef-40ed-f17e-b5cfdda84739"
      },
      "execution_count": 48,
      "outputs": [
        {
          "output_type": "stream",
          "name": "stdout",
          "text": [
            "Ino\n",
            "19\n"
          ]
        }
      ]
    },
    {
      "cell_type": "markdown",
      "source": [
        "Application 1. Write a Python program that computes the area of a square, and name its class as Square, side as attributes"
      ],
      "metadata": {
        "id": "ByW9B7dgXuNS"
      }
    },
    {
      "cell_type": "code",
      "source": [
        "class Square:\n",
        "  def __init__(self,sides):\n",
        "   self.sides=sides\n",
        " \n",
        "  def area(self):\n",
        "   return self.sides*self.sides\n",
        "  \n",
        "  def display(self):\n",
        "   print(\"the area of the square is: \", self.area())\n",
        "\n",
        "square=Square(4)\n",
        "\n",
        "print(square.sides)\n",
        "square.display()"
      ],
      "metadata": {
        "colab": {
          "base_uri": "https://localhost:8080/"
        },
        "id": "O7MQ8j2JYGBK",
        "outputId": "b09b33e9-b1eb-47f5-da2b-a63686d1ea6b"
      },
      "execution_count": 51,
      "outputs": [
        {
          "output_type": "stream",
          "name": "stdout",
          "text": [
            "4\n",
            "the area of the square is:  16\n"
          ]
        }
      ]
    },
    {
      "cell_type": "markdown",
      "source": [
        "Application 2. Write a Python program that displays your full name, age, course, school. Create a class named MyClass, and name, age, course, school as attributes"
      ],
      "metadata": {
        "id": "wO4Ror-jbjEr"
      }
    },
    {
      "cell_type": "code",
      "source": [
        "class MyClass:\n",
        "  def __init__(self,full_name,age,course,school):\n",
        "    self.full_name = full_name\n",
        "    self.age = age\n",
        "    self.course = course\n",
        "    self.school = school\n",
        "  \n",
        "  def identity(self):\n",
        "    print(self.full_name,self.age,self.course,self.school)\n",
        "\n",
        "person = MyClass(\"Florentino R. Manaysay III\",19,\"BS Computer Engineering\",\"Cavite State University\")\n",
        "\n",
        "print(person.full_name)\n",
        "print(person.age)\n",
        "print(person.course)\n",
        "print(person.school)\n",
        "print(person.identity)"
      ],
      "metadata": {
        "id": "jsy5rO8gb-BH",
        "colab": {
          "base_uri": "https://localhost:8080/"
        },
        "outputId": "84bf0427-3f72-4913-8548-02b17d33dcc6"
      },
      "execution_count": 60,
      "outputs": [
        {
          "output_type": "stream",
          "name": "stdout",
          "text": [
            "Florentino R. Manaysay III\n",
            "19\n",
            "BS Computer Engineering\n",
            "Cavite State University\n",
            "<bound method MyClass.identity of <__main__.MyClass object at 0x7f78b9dfe690>>\n"
          ]
        }
      ]
    }
  ]
}