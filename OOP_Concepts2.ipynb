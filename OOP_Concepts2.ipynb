{
  "nbformat": 4,
  "nbformat_minor": 0,
  "metadata": {
    "colab": {
      "name": "OOP Concepts2.ipynb",
      "provenance": [],
      "authorship_tag": "ABX9TyPfSPy3BL+Rgwuo4BTx4V2p",
      "include_colab_link": true
    },
    "kernelspec": {
      "name": "python3",
      "display_name": "Python 3"
    },
    "language_info": {
      "name": "python"
    }
  },
  "cells": [
    {
      "cell_type": "markdown",
      "metadata": {
        "id": "view-in-github",
        "colab_type": "text"
      },
      "source": [
        "<a href=\"https://colab.research.google.com/github/InoRM21/OOP-1-2/blob/main/OOP_Concepts2.ipynb\" target=\"_parent\"><img src=\"https://colab.research.google.com/assets/colab-badge.svg\" alt=\"Open In Colab\"/></a>"
      ]
    },
    {
      "cell_type": "markdown",
      "source": [
        "Classes with Multiple Objects"
      ],
      "metadata": {
        "id": "v2swZ8YiWN0G"
      }
    },
    {
      "cell_type": "code",
      "source": [
        "class Birds:\n",
        "  def __init__(self,bird_name):\n",
        "    self.bird_name = bird_name\n",
        "\n",
        "  def flying_birds(self):\n",
        "    print(f\"{self.bird_name} flies above the sky\")\n",
        "\n",
        "  def non_flying_birds(self):\n",
        "    print(f\"{self.bird_name} is the national bird of the Philippines\")\n",
        "\n",
        "vulture=Birds(\"Griffin Vulture\")\n",
        "crane=Birds(\"Common Crane\")\n",
        "emu=Birds(\"Emu\")\n",
        "\n",
        "vulture.flying_birds()\n",
        "crane.flying_birds()\n",
        "emu.non_flying_birds()"
      ],
      "metadata": {
        "colab": {
          "base_uri": "https://localhost:8080/"
        },
        "id": "MQFf43RaWTPd",
        "outputId": "2eeed495-d60c-44ff-b44d-5d4fe5f5e5b7"
      },
      "execution_count": 1,
      "outputs": [
        {
          "output_type": "stream",
          "name": "stdout",
          "text": [
            "Griffin Vulture flies above the sky\n",
            "Common Crane flies above the sky\n",
            "Emu is the national bird of the Philippines\n"
          ]
        }
      ]
    },
    {
      "cell_type": "markdown",
      "source": [
        "Encapsulation with mangling with double underscores"
      ],
      "metadata": {
        "id": "vUjkQxtMXTDR"
      }
    },
    {
      "cell_type": "code",
      "source": [
        "class foo:\n",
        "  def __init__(self,a,b):\n",
        "    self.a = a\n",
        "    self.b = b\n",
        "\n",
        "  def add(self):\n",
        "    return self.a + self.b\n",
        "\n",
        "number = foo(3,4)\n",
        "number.add()\n",
        "\n",
        "number.a = 7   #7,4 7+4=11\n",
        "number.add()"
      ],
      "metadata": {
        "colab": {
          "base_uri": "https://localhost:8080/"
        },
        "id": "r2dkV9O1XV6W",
        "outputId": "7667dcbf-5950-45f5-a2c9-6024b73e90a1"
      },
      "execution_count": 2,
      "outputs": [
        {
          "output_type": "execute_result",
          "data": {
            "text/plain": [
              "11"
            ]
          },
          "metadata": {},
          "execution_count": 2
        }
      ]
    },
    {
      "cell_type": "markdown",
      "source": [
        "Encapsulation with Private Attributes"
      ],
      "metadata": {
        "id": "0TkTUITzZk1H"
      }
    },
    {
      "cell_type": "code",
      "source": [
        "class Counter:\n",
        "  def __init__(self):\n",
        "    self.current = 0\n",
        "\n",
        "  def increment(self):\n",
        "    self.current +=1\n",
        "  def value(self):\n",
        "    return self.current\n",
        "  def reset(self):\n",
        "    self.current = 0\n",
        "\n",
        "num = Counter()\n",
        "num.increment()  #counter = counter + 1\n",
        "num.increment()\n",
        "num.increment()\n",
        "\n",
        "num.value()"
      ],
      "metadata": {
        "colab": {
          "base_uri": "https://localhost:8080/"
        },
        "id": "hxDDH88HZs9v",
        "outputId": "2b17d5d0-e9f3-4e36-93b0-5751486fb5e3"
      },
      "execution_count": 3,
      "outputs": [
        {
          "output_type": "execute_result",
          "data": {
            "text/plain": [
              "3"
            ]
          },
          "metadata": {},
          "execution_count": 3
        }
      ]
    },
    {
      "cell_type": "markdown",
      "source": [
        "Inheritance"
      ],
      "metadata": {
        "id": "SlGQUjUCdPgJ"
      }
    },
    {
      "cell_type": "code",
      "source": [
        "class Person:\n",
        "  def __init__(self,firstname,surname):\n",
        "    self.firstname = firstname\n",
        "    self.surname = surname\n",
        "\n",
        "  def printname(self):\n",
        "    print(self.firstname,self.surname)\n",
        "\n",
        "person = Person(\"Ino\",\"Manaysay\")\n",
        "person.printname()\n",
        "\n",
        "class Teacher(Person):\n",
        "  pass\n",
        "\n",
        "person2 = Teacher(\"Maria\",\"Sayo\")\n",
        "person2.printname()\n",
        "\n",
        "class Student(Person):\n",
        "  pass\n",
        "\n",
        "person3 = Student(\"Florentino\",\"Manaysay\")\n",
        "person3.printname()"
      ],
      "metadata": {
        "colab": {
          "base_uri": "https://localhost:8080/"
        },
        "id": "ZUGCXHBTdSlO",
        "outputId": "01f7f23e-0808-4b4f-e912-be8e7e04e73e"
      },
      "execution_count": 4,
      "outputs": [
        {
          "output_type": "stream",
          "name": "stdout",
          "text": [
            "Ino Manaysay\n",
            "Maria Sayo\n",
            "Florentino Manaysay\n"
          ]
        }
      ]
    },
    {
      "cell_type": "markdown",
      "source": [
        "Polymorphism"
      ],
      "metadata": {
        "id": "PTL5DUOQgTi_"
      }
    },
    {
      "cell_type": "code",
      "source": [
        "class RegularPolygon:\n",
        "  def __init__(self,side):\n",
        "   self.side = side\n",
        "class Square(RegularPolygon):\n",
        "  def area(self):\n",
        "   return self.side * self.side\n",
        "class EquilateralTriangle(RegularPolygon):\n",
        "  def area(self):\n",
        "   return self.side * self.side * 0.433\n",
        "\n",
        "object = Square(4)\n",
        "print(object.area())\n",
        "\n",
        "object2 = EquilateralTriangle(3)\n",
        "print(object2.area())"
      ],
      "metadata": {
        "colab": {
          "base_uri": "https://localhost:8080/"
        },
        "id": "Z4TPWQgVgWwU",
        "outputId": "36fbe840-48d3-4969-abca-eee866670d58"
      },
      "execution_count": 5,
      "outputs": [
        {
          "output_type": "stream",
          "name": "stdout",
          "text": [
            "16\n",
            "3.897\n"
          ]
        }
      ]
    },
    {
      "cell_type": "markdown",
      "source": [
        "#Application 1"
      ],
      "metadata": {
        "id": "mTkxnTV3C9Q7"
      }
    },
    {
      "cell_type": "code",
      "source": [
        "class Person:\n",
        "  def __init__(self,std1,std2,std3,pre,mid,fin):\n",
        "    self.std1 = std1\n",
        "    self.std2 = std2\n",
        "    self.std3 = std3\n",
        "    self.pre = pre\n",
        "    self.mid = mid\n",
        "    self.fin = fin\n",
        "\n",
        "std1 = input(\"Enter your name: \")\n",
        "pre = float (input(\"Enter your grades in pre: \"))\n",
        "mid = float (input(\"Enter your grades in mid: \"))\n",
        "fin = float (input(\"Enter your grades in fin: \"))\n",
        "sum = pre + mid + fin\n",
        "average = sum/3\n",
        "\n",
        "print (\"Name is: \", std1)\n",
        "print (\"Grades are: \",pre,mid,fin)\n",
        "print (\"Average Grades is: \", average)\n",
        "\n",
        "std2 = input(\"Enter your name: \")\n",
        "pre = float (input(\"Enter your grades in pre: \"))\n",
        "mid = float (input(\"Enter your grades in mid: \"))\n",
        "fin = float (input(\"Enter your grades in fin: \"))\n",
        "sum = pre + mid + fin\n",
        "average = sum/3\n",
        "\n",
        "print (\"Name is: \", std2)\n",
        "print (\"Grades are: \",pre,mid,fin)\n",
        "print (\"Average Grades is: \", average)\n",
        "\n",
        "std3 = input(\"Enter your name: \")\n",
        "pre = float (input(\"Enter your grades in pre: \"))\n",
        "mid = float (input(\"Enter your grades in mid: \"))\n",
        "fin = float (input(\"Enter your grades in fin: \"))\n",
        "sum = pre + mid + fin\n",
        "average = sum/3\n",
        "\n",
        "print (\"Name is: \", std3)\n",
        "print (\"Grades are: \",pre,mid,fin)\n",
        "print (\"Average Grades is: \", average)"
      ],
      "metadata": {
        "colab": {
          "base_uri": "https://localhost:8080/"
        },
        "id": "D37K7yuLDKHE",
        "outputId": "ae5df1aa-96ad-4d33-c2ea-ec3fc1e0a66c"
      },
      "execution_count": 6,
      "outputs": [
        {
          "output_type": "stream",
          "name": "stdout",
          "text": [
            "Enter your name: Ino Manaysay\n",
            "Enter your grades in pre: 97\n",
            "Enter your grades in mid: 98\n",
            "Enter your grades in fin: 99\n",
            "Name is:  Ino Manaysay\n",
            "Grades are:  97.0 98.0 99.0\n",
            "Average Grades is:  98.0\n",
            "Enter your name: Haruto Watanabe\n",
            "Enter your grades in pre: 98\n",
            "Enter your grades in mid: 98\n",
            "Enter your grades in fin: 99\n",
            "Name is:  Haruto Watanabe\n",
            "Grades are:  98.0 98.0 99.0\n",
            "Average Grades is:  98.33333333333333\n",
            "Enter your name: Seungcheol Choi\n",
            "Enter your grades in pre: 98\n",
            "Enter your grades in mid: 99\n",
            "Enter your grades in fin: 99\n",
            "Name is:  Seungcheol Choi\n",
            "Grades are:  98.0 99.0 99.0\n",
            "Average Grades is:  98.66666666666667\n"
          ]
        }
      ]
    }
  ]
}