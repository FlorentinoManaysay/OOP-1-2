{
  "nbformat": 4,
  "nbformat_minor": 0,
  "metadata": {
    "colab": {
      "name": "OOP Concepts2.ipynb",
      "provenance": [],
      "authorship_tag": "ABX9TyM3j5+LN8IA9OiLGlBYOCUM",
      "include_colab_link": true
    },
    "kernelspec": {
      "name": "python3",
      "display_name": "Python 3"
    },
    "language_info": {
      "name": "python"
    }
  },
  "cells": [
    {
      "cell_type": "markdown",
      "metadata": {
        "id": "view-in-github",
        "colab_type": "text"
      },
      "source": [
        "<a href=\"https://colab.research.google.com/github/InoRM21/OOP-1-2/blob/main/OOP_Concepts2.ipynb\" target=\"_parent\"><img src=\"https://colab.research.google.com/assets/colab-badge.svg\" alt=\"Open In Colab\"/></a>"
      ]
    },
    {
      "cell_type": "markdown",
      "source": [
        "Classes with Multiple Objects"
      ],
      "metadata": {
        "id": "v2swZ8YiWN0G"
      }
    },
    {
      "cell_type": "code",
      "source": [
        "class Birds:\n",
        "  def __init__(self,bird_name):\n",
        "    self.bird_name = bird_name\n",
        "\n",
        "  def flying_birds(self):\n",
        "    print(f\"{self.bird_name} flies above the sky\")\n",
        "\n",
        "  def non_flying_birds(self):\n",
        "    print(f\"{self.bird_name} is the national bird of the Philippines\")\n",
        "\n",
        "vulture=Birds(\"Griffin Vulture\")\n",
        "crane=Birds(\"Common Crane\")\n",
        "emu=Birds(\"Emu\")\n",
        "\n",
        "vulture.flying_birds()\n",
        "crane.flying_birds()\n",
        "emu.non_flying_birds()"
      ],
      "metadata": {
        "colab": {
          "base_uri": "https://localhost:8080/"
        },
        "id": "MQFf43RaWTPd",
        "outputId": "aebdc0aa-79f2-498e-fe6b-767767872e42"
      },
      "execution_count": null,
      "outputs": [
        {
          "output_type": "stream",
          "name": "stdout",
          "text": [
            "Griffin Vulture flies above the sky\n",
            "Common Crane flies above the sky\n",
            "Emu is the national bird of the Philippines\n"
          ]
        }
      ]
    },
    {
      "cell_type": "markdown",
      "source": [
        "Encapsulation with mangling with double underscores"
      ],
      "metadata": {
        "id": "vUjkQxtMXTDR"
      }
    },
    {
      "cell_type": "code",
      "source": [
        "class foo:\n",
        "  def __init__(self,a,b):\n",
        "    self.a = a\n",
        "    self.b = b\n",
        "\n",
        "  def add(self):\n",
        "    return self.a + self.b\n",
        "\n",
        "number = foo(3,4)\n",
        "number.add()\n",
        "\n",
        "number.a = 7   #7,4 7+4=11\n",
        "number.add()"
      ],
      "metadata": {
        "colab": {
          "base_uri": "https://localhost:8080/"
        },
        "id": "r2dkV9O1XV6W",
        "outputId": "b6f6121f-13d1-4e25-9eb0-a8e9b49e469c"
      },
      "execution_count": null,
      "outputs": [
        {
          "output_type": "execute_result",
          "data": {
            "text/plain": [
              "11"
            ]
          },
          "metadata": {},
          "execution_count": 17
        }
      ]
    },
    {
      "cell_type": "markdown",
      "source": [
        "Encapsulation with Private Attributes"
      ],
      "metadata": {
        "id": "0TkTUITzZk1H"
      }
    },
    {
      "cell_type": "code",
      "source": [
        "class Counter:\n",
        "  def __init__(self):\n",
        "    self.current = 0\n",
        "\n",
        "  def increment(self):\n",
        "    self.current +=1\n",
        "  def value(self):\n",
        "    return self.current\n",
        "  def reset(self):\n",
        "    self.current = 0\n",
        "\n",
        "num = Counter()\n",
        "num.increment()  #counter = counter + 1\n",
        "num.increment()\n",
        "num.increment()\n",
        "\n",
        "num.value()"
      ],
      "metadata": {
        "colab": {
          "base_uri": "https://localhost:8080/"
        },
        "id": "hxDDH88HZs9v",
        "outputId": "d178f5e1-4800-4162-c931-4693631caebc"
      },
      "execution_count": null,
      "outputs": [
        {
          "output_type": "execute_result",
          "data": {
            "text/plain": [
              "3"
            ]
          },
          "metadata": {},
          "execution_count": 7
        }
      ]
    },
    {
      "cell_type": "markdown",
      "source": [
        "Inheritance"
      ],
      "metadata": {
        "id": "SlGQUjUCdPgJ"
      }
    },
    {
      "cell_type": "code",
      "source": [
        "class Person:\n",
        "  def __init__(self,firstname,surname):\n",
        "    self.firstname = firstname\n",
        "    self.surname = surname\n",
        "\n",
        "  def printname(self):\n",
        "    print(self.firstname,self.surname)\n",
        "\n",
        "person = Person(\"Ino\",\"Manaysay\")\n",
        "person.printname()\n",
        "\n",
        "class Teacher(Person):\n",
        "  pass\n",
        "\n",
        "person2 = Teacher(\"Maria\",\"Sayo\")\n",
        "person2.printname()\n",
        "\n",
        "class Student(Person):\n",
        "  pass\n",
        "\n",
        "person3 = Student(\"Florentino\",\"Manaysay\")\n",
        "person3.printname()"
      ],
      "metadata": {
        "colab": {
          "base_uri": "https://localhost:8080/"
        },
        "id": "ZUGCXHBTdSlO",
        "outputId": "ccbc33d5-b0c2-4740-cc8b-6dbee387586d"
      },
      "execution_count": null,
      "outputs": [
        {
          "output_type": "stream",
          "name": "stdout",
          "text": [
            "Ino Manaysay\n",
            "Maria Sayo\n",
            "Florentino Manaysay\n"
          ]
        }
      ]
    },
    {
      "cell_type": "markdown",
      "source": [
        "Polymorphism"
      ],
      "metadata": {
        "id": "PTL5DUOQgTi_"
      }
    },
    {
      "cell_type": "code",
      "source": [
        "class RegularPolygon:\n",
        "  def __init__(self,side):\n",
        "   self.side = side\n",
        "class Square(RegularPolygon):\n",
        "  def area(self):\n",
        "   return self.side * self.side\n",
        "class EquilateralTriangle(RegularPolygon):\n",
        "  def area(self):\n",
        "   return self.side * self.side * 0.433\n",
        "\n",
        "object = Square(4)\n",
        "print(object.area())\n",
        "\n",
        "object2 = EquilateralTriangle(3)\n",
        "print(object2.area())"
      ],
      "metadata": {
        "colab": {
          "base_uri": "https://localhost:8080/"
        },
        "id": "Z4TPWQgVgWwU",
        "outputId": "0a5f8641-ab1c-4ea8-c040-092b49006c64"
      },
      "execution_count": null,
      "outputs": [
        {
          "output_type": "stream",
          "name": "stdout",
          "text": [
            "16\n",
            "3.897\n"
          ]
        }
      ]
    }
  ]
}