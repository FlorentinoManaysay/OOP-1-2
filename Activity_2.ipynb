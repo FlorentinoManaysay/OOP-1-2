{
  "nbformat": 4,
  "nbformat_minor": 0,
  "metadata": {
    "colab": {
      "name": "Activity 2.ipynb",
      "provenance": [],
      "authorship_tag": "ABX9TyPTRCMd+zQaXVdZvxVBvV2W",
      "include_colab_link": true
    },
    "kernelspec": {
      "name": "python3",
      "display_name": "Python 3"
    },
    "language_info": {
      "name": "python"
    }
  },
  "cells": [
    {
      "cell_type": "markdown",
      "metadata": {
        "id": "view-in-github",
        "colab_type": "text"
      },
      "source": [
        "<a href=\"https://colab.research.google.com/github/InoRM21/OOP-1-2/blob/main/Activity_2.ipynb\" target=\"_parent\"><img src=\"https://colab.research.google.com/assets/colab-badge.svg\" alt=\"Open In Colab\"/></a>"
      ]
    },
    {
      "cell_type": "code",
      "source": [
        "#Write a python program that converts the temperature Celsius to Fahrenheit. Create a class name Temperature.\n",
        "#Create Celsius as attribute name, Temp() as method, and temp1 as object name. F = 1.8xC + 32\n",
        "\n",
        "class Temperature:  \n",
        "  def __init__(self,Celsius):    \n",
        "    self.Celsius = Celsius   \n",
        "    \n",
        "  def Temp(self):    \n",
        "    return ((1.8*self.Celsius)+32)\n",
        "    \n",
        "input_temp = float(input(\"Input temperature in celsius: \"))\n",
        "temp1 = Temperature(input_temp)\n",
        "print(round(temp1.Temp(),2))"
      ],
      "metadata": {
        "colab": {
          "base_uri": "https://localhost:8080/"
        },
        "id": "F7dMFBmm99vl",
        "outputId": "910ac7e6-affb-4545-f8ec-7a94ebf8ec5d"
      },
      "execution_count": null,
      "outputs": [
        {
          "output_type": "stream",
          "name": "stdout",
          "text": [
            "Input temperature in celsius: 30\n",
            "86.0\n"
          ]
        }
      ]
    },
    {
      "cell_type": "markdown",
      "source": [
        "#Define an Area() method of the class that calculates the circle's area."
      ],
      "metadata": {
        "id": "8iyKbspd-F5m"
      }
    },
    {
      "cell_type": "code",
      "execution_count": 22,
      "metadata": {
        "colab": {
          "base_uri": "https://localhost:8080/"
        },
        "id": "Uybe59olJHPO",
        "outputId": "a39e61ae-9c28-40d8-e354-1a3eaf05a59e"
      },
      "outputs": [
        {
          "output_type": "stream",
          "name": "stdout",
          "text": [
            "Enter the radius of the circle: 12\n",
            "The Area of the circle is 12.0\n"
          ]
        }
      ],
      "source": [
        "import math\n",
        "\n",
        "class Circle:  \n",
        "  def __init__(self,radius):    \n",
        "    self.radius = radius   \n",
        "    \n",
        "  def Area(self):    \n",
        "    return math.PI*(self.radius**2)\n",
        "\n",
        "radius = float(input(\"Enter the radius of the circle: \"))\n",
        "cirlce1 = Circle(radius)\n",
        "print (\"The Area of the circle is\", radius)"
      ]
    },
    {
      "cell_type": "markdown",
      "source": [
        "#Define a Perimeter () method of the class which allows you to calculate the perimeter of the circle."
      ],
      "metadata": {
        "id": "4evkfFpZ-HzW"
      }
    },
    {
      "cell_type": "code",
      "source": [
        "import math\n",
        "\n",
        "class Circle:  \n",
        "  def __init__(self,radius):    \n",
        "    self.radius = radius   \n",
        "    \n",
        "  def Area(self):    \n",
        "    return 2*math.PI*(self.radius)\n",
        "\n",
        "radius = float(input(\"Enter the radius of the circle: \"))\n",
        "cirlce1 = Circle(radius)\n",
        "\n",
        "print (\"The Perimeter of the circle is\", Circle(radius))"
      ],
      "metadata": {
        "id": "kIMnmsgFLl_1",
        "outputId": "9c6540ae-0b68-4f44-8418-0394ff7291f8",
        "colab": {
          "base_uri": "https://localhost:8080/"
        }
      },
      "execution_count": 24,
      "outputs": [
        {
          "output_type": "stream",
          "name": "stdout",
          "text": [
            "Enter the radius of the circle: 12\n",
            "The Perimeter of the circle is <__main__.Circle object at 0x7f9dcc2378d0>\n"
          ]
        }
      ]
    }
  ]
}