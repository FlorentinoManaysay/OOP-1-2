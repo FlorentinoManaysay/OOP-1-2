{
  "nbformat": 4,
  "nbformat_minor": 0,
  "metadata": {
    "colab": {
      "name": "Activity 2.ipynb",
      "provenance": [],
      "authorship_tag": "ABX9TyO52IIfRPVGRsKaLGvQaFCo",
      "include_colab_link": true
    },
    "kernelspec": {
      "name": "python3",
      "display_name": "Python 3"
    },
    "language_info": {
      "name": "python"
    }
  },
  "cells": [
    {
      "cell_type": "markdown",
      "metadata": {
        "id": "view-in-github",
        "colab_type": "text"
      },
      "source": [
        "<a href=\"https://colab.research.google.com/github/InoRM21/OOP-1-2/blob/main/Activity_2.ipynb\" target=\"_parent\"><img src=\"https://colab.research.google.com/assets/colab-badge.svg\" alt=\"Open In Colab\"/></a>"
      ]
    },
    {
      "cell_type": "code",
      "execution_count": null,
      "metadata": {
        "colab": {
          "base_uri": "https://localhost:8080/"
        },
        "id": "Uybe59olJHPO",
        "outputId": "b2407c3b-7fc8-4011-8be5-76af8dd2009b"
      },
      "outputs": [
        {
          "output_type": "stream",
          "name": "stdout",
          "text": [
            "Enter the radius of the circle: 12\n",
            "The Area of the circle is 452.16\n"
          ]
        }
      ],
      "source": [
        "#Define an Area() method of the class that calculates the circle's area.\n",
        "\n",
        "#define PI=3.14\n",
        "\n",
        "radius = float(input(\"Enter the radius of the circle: \"))\n",
        "Area = PI*radius**2\n",
        "\n",
        "print (\"The Area of the circle is\", Area)"
      ]
    },
    {
      "cell_type": "code",
      "source": [
        "#Define a Perimeter () method of the class which allows you to calculate the perimeter of the circle.\n",
        "\n",
        "#define PI=3.14\n",
        "\n",
        "radius = float(input(\"Enter the radius of the circle: \"))\n",
        "Perimeter = 2*PI*radius\n",
        "\n",
        "print (\"The Perimeter of the circle is\", Perimeter)"
      ],
      "metadata": {
        "id": "kIMnmsgFLl_1",
        "outputId": "9140e160-16ce-4775-bb83-eb935465aa2d",
        "colab": {
          "base_uri": "https://localhost:8080/"
        }
      },
      "execution_count": null,
      "outputs": [
        {
          "output_type": "stream",
          "name": "stdout",
          "text": [
            "Enter the radius of the circle: 12\n",
            "The Perimeter of the circle is 75.36\n"
          ]
        }
      ]
    }
  ]
}