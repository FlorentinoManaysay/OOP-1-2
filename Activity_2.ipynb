{
  "nbformat": 4,
  "nbformat_minor": 0,
  "metadata": {
    "colab": {
      "name": "Activity 2.ipynb",
      "provenance": [],
      "authorship_tag": "ABX9TyPoGrwcHCCXsnf8oN6TGkZw",
      "include_colab_link": true
    },
    "kernelspec": {
      "name": "python3",
      "display_name": "Python 3"
    },
    "language_info": {
      "name": "python"
    }
  },
  "cells": [
    {
      "cell_type": "markdown",
      "metadata": {
        "id": "view-in-github",
        "colab_type": "text"
      },
      "source": [
        "<a href=\"https://colab.research.google.com/github/InoRM21/OOP-1-2/blob/main/Activity_2.ipynb\" target=\"_parent\"><img src=\"https://colab.research.google.com/assets/colab-badge.svg\" alt=\"Open In Colab\"/></a>"
      ]
    },
    {
      "cell_type": "code",
      "source": [
        "#Write a python program that converts the temperature Celsius to Fahrenheit. Create a class name Temperature.\n",
        "#Create Celsius as attribute name, Temp() as method, and temp1 as object name. F = 1.8xC + 32\n",
        "\n",
        "class Temperature:  \n",
        "  def __init__(self,Celsius):    \n",
        "    self.Celsius = Celsius   \n",
        "    \n",
        "  def Temp(self):    \n",
        "    return ((1.8*self.Celsius)+32)\n",
        "    \n",
        "input_temp = float(input(\"Input temperature in celsius: \"))\n",
        "temp1 = Temperature(input_temp)\n",
        "print(round(temp1.Temp(),2))"
      ],
      "metadata": {
        "id": "1pZJqdWbZ-iY",
        "colab": {
          "base_uri": "https://localhost:8080/"
        },
        "outputId": "976b6b2e-0c09-4fd9-b6f3-80f05f1b5485"
      },
      "execution_count": 10,
      "outputs": [
        {
          "output_type": "stream",
          "name": "stdout",
          "text": [
            "Input temperature in celsius: 30\n",
            "86.0\n"
          ]
        }
      ]
    }
  ]
}