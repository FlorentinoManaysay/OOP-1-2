{
  "nbformat": 4,
  "nbformat_minor": 0,
  "metadata": {
    "colab": {
      "name": "Activity 2.ipynb",
      "provenance": [],
      "authorship_tag": "ABX9TyPpe3t+GG3ozSkaaRCuIXKC",
      "include_colab_link": true
    },
    "kernelspec": {
      "name": "python3",
      "display_name": "Python 3"
    },
    "language_info": {
      "name": "python"
    }
  },
  "cells": [
    {
      "cell_type": "markdown",
      "metadata": {
        "id": "view-in-github",
        "colab_type": "text"
      },
      "source": [
        "<a href=\"https://colab.research.google.com/github/InoRM21/OOP-1-2/blob/main/Activity_2.ipynb\" target=\"_parent\"><img src=\"https://colab.research.google.com/assets/colab-badge.svg\" alt=\"Open In Colab\"/></a>"
      ]
    },
    {
      "cell_type": "code",
      "source": [
        "#Write a python program that converts the temperature Celsius to Fahrenheit. Create a class name Temperature.\n",
        "#Create Celsius as attribute name, Temp() as method, and temp1 as object name. F = 1.8xC + 32\n",
        "\n",
        "class Temperature:  \n",
        "  def __init__(self,Celsius):    \n",
        "    self.Celsius = Celsius   \n",
        "    \n",
        "  def Temp(self):    \n",
        "    return ((1.8*self.Celsius)+32)\n",
        "    \n",
        "input_temp = float(input(\"Input temperature in celsius: \"))\n",
        "temp1 = Temperature(input_temp)\n",
        "print(round(temp1.Temp(),2))"
      ],
      "metadata": {
        "colab": {
          "base_uri": "https://localhost:8080/"
        },
        "id": "F7dMFBmm99vl",
        "outputId": "8ab32060-3bb2-4889-ad8c-a4b242f5805c"
      },
      "execution_count": 18,
      "outputs": [
        {
          "output_type": "stream",
          "name": "stdout",
          "text": [
            "Input temperature in celsius: 30\n",
            "86.0\n"
          ]
        }
      ]
    },
    {
      "cell_type": "markdown",
      "source": [
        "#Define an Area() method of the class that calculates the circle's area."
      ],
      "metadata": {
        "id": "8iyKbspd-F5m"
      }
    },
    {
      "cell_type": "code",
      "execution_count": 19,
      "metadata": {
        "colab": {
          "base_uri": "https://localhost:8080/"
        },
        "id": "Uybe59olJHPO",
        "outputId": "ee1cae02-ebfc-440c-9599-369d034841a3"
      },
      "outputs": [
        {
          "output_type": "stream",
          "name": "stdout",
          "text": [
            "Enter the radius of the circle: 17\n",
            "The Area of the circle of the radius 17.0 = 907.9203\n"
          ]
        }
      ],
      "source": [
        "import math\n",
        "\n",
        "class Circle:  \n",
        "  def __init__(self,radius):    \n",
        "    self.radius = radius   \n",
        "    \n",
        "  def Area(self):    \n",
        "    return math.pi*(self.radius**2)\n",
        "\n",
        "radius = float(input(\"Enter the radius of the circle: \"))\n",
        "circle1 = Circle(radius)\n",
        "print (\"The Area of the circle of the radius\", radius, \"=\", round (circle1.Area(),4))"
      ]
    },
    {
      "cell_type": "markdown",
      "source": [
        "#Define a Perimeter () method of the class which allows you to calculate the perimeter of the circle."
      ],
      "metadata": {
        "id": "4evkfFpZ-HzW"
      }
    },
    {
      "cell_type": "code",
      "source": [
        "import math\n",
        "\n",
        "class Circle:  \n",
        "  def __init__(self,radius):    \n",
        "    self.radius = radius   \n",
        "    \n",
        "  def Perimeter(self):    \n",
        "    return 2*math.pi*(self.radius)\n",
        "\n",
        "radius = float(input(\"Enter the radius of the circle: \"))\n",
        "circle1 = Circle(radius)\n",
        "\n",
        "print (\"The Perimeter of the circle of the radius\", radius, \"=\", round(circle1.Perimeter(),4))"
      ],
      "metadata": {
        "id": "kIMnmsgFLl_1",
        "outputId": "adb5dade-76a3-4c98-a45d-12367d58579b",
        "colab": {
          "base_uri": "https://localhost:8080/"
        }
      },
      "execution_count": 20,
      "outputs": [
        {
          "output_type": "stream",
          "name": "stdout",
          "text": [
            "Enter the radius of the circle: 17\n",
            "The Perimeter of the circle of the radius 17.0 = 106.8142\n"
          ]
        }
      ]
    }
  ]
}